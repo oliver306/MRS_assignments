{
 "cells": [
  {
   "cell_type": "code",
   "execution_count": 5,
   "metadata": {},
   "outputs": [],
   "source": [
    "import numpy as np\n",
    "import librosa\n",
    "import subprocess\n",
    "import os\n",
    "import matplotlib.pyplot as plt"
   ]
  },
  {
   "cell_type": "code",
   "execution_count": 6,
   "metadata": {},
   "outputs": [],
   "source": [
    "#resamples audio signal to a new sample frequency\n",
    "def resample(y, sr, resample_to):\n",
    "    return librosa.resample(y, sr, resample_to)\n",
    "\n",
    "#normalizes audio signal\n",
    "def normalize(samples):\n",
    "    return librosa.util.normalize(samples, norm=np.inf)\n",
    "\n",
    "#downmix to one channel\n",
    "def downmix_to_mono(signal):\n",
    "    # check if signal has more than 1 channel\n",
    "    if len(signal.shape) > 1:\n",
    "        return librosa.to_mono(signal)\n",
    "    else:\n",
    "        return signal\n"
   ]
  },
  {
   "cell_type": "code",
   "execution_count": 7,
   "metadata": {},
   "outputs": [],
   "source": [
    "def preprocess(input_file, output_file=None, plot=True):\n",
    "\n",
    "    if output_file is None:\n",
    "        file_base = os.path.splitext(os.path.basename(input_file))[0]\n",
    "        output_file = \"../videos/processed/\" + file_base + \"_processed.wav\"\n",
    "\n",
    "    #shell call that extracts wav from video file\n",
    "    subprocess.call(\"ffmpeg -i \" + input_file + \" -acodec pcm_s16le -y \" + output_file, shell=True)\n",
    "\n",
    "    #load file\n",
    "    y, sr = librosa.load(output_file, sr=22050)\n",
    "\n",
    "    #downsample\n",
    "    new_sr = 11025\n",
    "    resampled = resample(y, sr, new_sr)\n",
    "\n",
    "    #normalize to maximum possible amplitude\n",
    "    normed = normalize(resampled)\n",
    "\n",
    "    normed_mono = downmix_to_mono(normed)\n",
    "\n",
    "    if plot:\n",
    "        plt.plot(y)\n",
    "        plt.plot(normed_mono)\n",
    "        plt.show()\n",
    "        \n",
    "    #return normed_mono, new_sr"
   ]
  },
  {
   "cell_type": "code",
   "execution_count": 8,
   "metadata": {},
   "outputs": [],
   "source": [
    "#processes every file in directory\n",
    "def preprocessDirectory(dir_name):\n",
    "    for filename in os.listdir(dir_name):\n",
    "        if filename.endswith(\".mp4\"):\n",
    "            preprocess(os.path.join(dir_name, filename), plot=False)"
   ]
  }
 ],
 "metadata": {
  "kernelspec": {
   "display_name": "Python 3",
   "language": "python",
   "name": "python3"
  },
  "language_info": {
   "codemirror_mode": {
    "name": "ipython",
    "version": 3
   },
   "file_extension": ".py",
   "mimetype": "text/x-python",
   "name": "python",
   "nbconvert_exporter": "python",
   "pygments_lexer": "ipython3",
   "version": "3.7.4"
  }
 },
 "nbformat": 4,
 "nbformat_minor": 2
}
