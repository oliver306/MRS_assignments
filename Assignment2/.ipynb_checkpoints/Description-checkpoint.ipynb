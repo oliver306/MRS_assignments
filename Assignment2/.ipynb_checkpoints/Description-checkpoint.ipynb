{
 "cells": [
  {
   "cell_type": "markdown",
   "metadata": {},
   "source": [
    "<h2>Assignment Description</h2>\n",
    "<h1>Assignment 2: Audio Retrieval</h1>\n",
    "<h2>General Information</h2><p>This\n",
    "assignment deals with content based information extraction and analysis of\n",
    "digitalized audio signals. You will get proper understanding of how to\n",
    "represent (parts of) audio signals using features, feature vectors, and\n",
    "matrices as well as you will work on approaches of comparison, identification\n",
    "and classification. The assignments have to be solved in <b>Python</b> and in the form of <b>Jupyter Notebook</b>.</p><p></p><p><b>Please follow the given recommendations as closely as possible in order \n",
    "to minimize the risk of losing points due to not be compliant with the \n",
    "guidelines:</b><br></p><p></p><ul>\n",
    "<li>Points will be deducted in case your source code is not&nbsp;properly documented</li><li>\n",
    "<p>All tasks have to be solved in Python.</p></li>\n",
    "<li><p>It is absolutely mandatory that you stick to the&nbsp;method signatures&nbsp;and that your functions output the results as indicated in the task descriptions</p></li>\n",
    "<li>You must be prepared for the discussion so that you can answer&nbsp;in-depth questions&nbsp;about your code and the implemented steps as well as about the underlying retrieval-related theories and concepts</li>\n",
    "<li>We strongly advise you&nbsp;not&nbsp;to use&nbsp;static paths&nbsp;in your implementations!</li>\n",
    "<li>Store your&nbsp;complete source code&nbsp;together with all files in&nbsp;one single zip-file&nbsp;the naming scheme of which could be found on the submission page and upload it&nbsp;before the deadline&nbsp;to the Moodle system</li>\n",
    "<li>In some tasks, you have to answer additional questions or provide a brief documentation of your progress in implementing specific algorithms or functions. For these questions, you may either use Jupyter Notebooks to answer them (use Markdown functionality for this) and provide example code (if needed), or do it in a standard PDF. Thus, the form of the report is entirely up to you.</li>\n",
    "<li>Scores:</li>\n",
    "<ul>\n",
    "<li>Task 1: 20 Points</li>\n",
    "<li>Task 2: 30 Points</li>\n",
    "<li>Task 3: 20 Points</li>\n",
    "<li>Task 4: 30 Points</li>\n",
    "</ul>\n",
    "    \n",
    "</ul><h2>Necessary preparations</h2>\n",
    "<p>Please use the following files:</p>\n",
    "\n",
    "<ul>\n",
    "<li>Video Files Package <span lang=\"EN-GB\"><a href=\"https://moodle.univie.ac.at/mod/resource/view.php?id=1394758\" target=\"_blank\"><span lang=\"EN-US\">Video Data Set</span></a></span> including: </li>\n",
    " <ul>\n",
    "  <li>25 MPEG-4 encoded Video Files split into ...</li>\n",
    "  <ul>\n",
    "   <li>a test set of 5 files\n",
    "       (/TestSet)</li>\n",
    "   <li>a development set of 20 files\n",
    "       (/DevSet)</li>\n",
    "  </ul>\n",
    " </ul>\n",
    " <li>Download, install, and become\n",
    "     familiar with FFMPEG (<span lang=\"EN-GB\"><a href=\"http://ffmpeg.org\" target=\"_blank\"><span lang=\"EN-US\">http://ffmpeg.org/</span></a></span>). You may use it to produce PCM-encoded WAV for\n",
    "     further processing. Have a look at the official documentation at (<span lang=\"EN-GB\"><a href=\"http://ffmpeg.org/ffmpeg.html\" target=\"_blank\"><span lang=\"EN-US\">http://ffmpeg.org/ffmpeg.html</span></a></span>) to examine command line\n",
    "     arguments and possible input/output parameters.</li>\n",
    " <li>You may find more resources at\n",
    "     the Section <i>Material</i> at the Moodle platform.</li>\n",
    "</ul>\n",
    "\n",
    "<p><i>A so-called\n",
    "\"ground-truth\" defines some entrenched truth about a collection of\n",
    "possible input data that is used for classification (or identification)\n",
    "approaches. By using this ground-truth, the performance and reliability of a\n",
    "retrieval algorithm can be rated. In our case the ground-truth is defined by\n",
    "the filename prefix numbers in the video data set, which define the\n",
    "corresponding genre classes.</i><br><br></p>\n",
    "<b>Libraries to be used</b>:<b> </b>Scipy, Numpy, Pandas,\n",
    "LibROSA, Matplotlib<br><p></p>"
   ]
  },
  {
   "cell_type": "code",
   "execution_count": null,
   "metadata": {},
   "outputs": [],
   "source": []
  }
 ],
 "metadata": {
  "kernelspec": {
   "display_name": "Python 3",
   "language": "python",
   "name": "python3"
  },
  "language_info": {
   "codemirror_mode": {
    "name": "ipython",
    "version": 3
   },
   "file_extension": ".py",
   "mimetype": "text/x-python",
   "name": "python",
   "nbconvert_exporter": "python",
   "pygments_lexer": "ipython3",
   "version": "3.7.4"
  }
 },
 "nbformat": 4,
 "nbformat_minor": 2
}
