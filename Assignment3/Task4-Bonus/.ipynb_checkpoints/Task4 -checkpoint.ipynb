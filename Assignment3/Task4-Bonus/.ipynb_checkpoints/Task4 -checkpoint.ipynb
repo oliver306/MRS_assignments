{
 "cells": [
  {
   "cell_type": "markdown",
   "metadata": {},
   "source": [
    "<h3>Task 4 (Bonus Task - optional): Multimodal Video Retrieval (10 Pt. of final grade)</h3>\n",
    "The aim of this task is to explore and to have a quick look into some basic multimodal video retrieval. For this purpose, you will use algorithms you have already implemented for Assignment 2 and the previous tasks of Assignment 3. The challenge of this assignment is to find a meaningful way to combine audio and visual features. <br><br><div style=\"text-align: center;\"><b>Please note, that this task is optional. <br></b></div><div style=\"text-align: center;\"><b><br></b></div><div style=\"text-align: center;\"><b></b><br></div>\n",
    "<p>The goal of this task is to implement a multimodal/audio-visual video genre classification.\n",
    "For this purpose, you need to combine the already implemented algorithms for\n",
    "audio and video retrieval. In general, there are two possible ways to combine\n",
    "different features: 1) you can employ each feature separately, classify the\n",
    "video according to the feature, and finally use some rules to perform final\n",
    "classification, or 2) you can combine the features into a single feature vector\n",
    "and perform video classification using this single one feature. Choose one\n",
    "feature combination (or both). As in task 3, assign the clips of the test set\n",
    "to a genre using your multimodal approach. <br>\n",
    "<br>\n",
    "Answer the following question: </p>\n",
    "\n",
    "<ul>\n",
    "<li>Motivate your choice of feature combination. When do you think does it perform good and when not?</li>\n",
    "<li>Calculate recall, precision, and F1 measure. How did the performance change with respect to single modality genre classification (audio, visual)? Why do you think did the performance increase/decrease?</li>\n",
    "</ul>"
   ]
  }
 ],
 "metadata": {
  "kernelspec": {
   "display_name": "Python 3",
   "language": "python",
   "name": "python3"
  },
  "language_info": {
   "codemirror_mode": {
    "name": "ipython",
    "version": 3
   },
   "file_extension": ".py",
   "mimetype": "text/x-python",
   "name": "python",
   "nbconvert_exporter": "python",
   "pygments_lexer": "ipython3",
   "version": "3.7.4"
  }
 },
 "nbformat": 4,
 "nbformat_minor": 2
}
