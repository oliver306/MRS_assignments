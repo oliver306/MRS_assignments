{
 "cells": [
  {
   "cell_type": "markdown",
   "metadata": {},
   "source": [
    "<h2>Assignment Description</h2>\n",
    "<h3>Assignment 3: Visual-based Video Retrieval</h3><br>\n",
    "<h5>General information</h5><p>The aim of\n",
    "the task is to get a general idea about content-based video retrieval. In the previous assignment, the audio information was used for retrieval purposes. In this task you will use the visual information of a video. You will get insights on visual feature extraction, applying similarity measures, shot cut detection, and how to perform meaningful classification for retrieval purposes. <br>\n",
    "<br>\n",
    "An additional bonus task is provided to get some extra points. In the bonus task you will combine the extracted audio and video features to build a multimodal retrieval system. </p>\n",
    "\n",
    "<p><b>Libraries: <br></b></p><p><b> </b><b></b>Scipy, Numpy, OpenCV, Matplotlib &nbsp;</p>\n",
    "\n",
    "<p><b>Required Results</b></p>\n",
    "\n",
    "<p>Include in your submission: </p>\n",
    "\n",
    "<ul><li>A detailed protocol including\n",
    "     the answers of all tasks, the figures, tables and description of your\n",
    "     strategy (ass3/protocol.pdf)</li>\n",
    "    <li>The Notebook Implementation Files for Task 1, 2,\n",
    "     3 and the bonus task (if you have worked on the bonus task). </li>\n",
    "    <li>Provide your files in a separate directory for each task (Task1/,\n",
    "     Task2/, ..., Task4-bonus)</li>\n",
    "</ul>\n",
    "\n",
    "<p>Please name\n",
    "your ZIP file using the following convention: <b>MMRET19_MNR_A3.zip</b> where\n",
    "MNR is your matriculation number. </p>\n",
    "\n",
    "<p><b>Database</b><br></p><p>The video\n",
    "database contains 25 movie clips from YouTube divided into … \n",
    "\n",
    "</p><ul type=\"disc\">\n",
    " </ul><ul><li>A test set of 5 files\n",
    "     (/TestSet) </li><li>A development set of 20 files\n",
    "     (/DevSet) </li></ul><ul type=\"disc\">\n",
    "</ul>\n",
    "\n",
    "<p>The videos\n",
    "are selected scenes from 5 movies from 3 genres (thriller, dance, and\n",
    "documentary). The database can be downloaded from Section \"General\n",
    "Information\". </p><br><h5>Ground truth</h5><p>Additional\n",
    "to the videos we provide a groundtruth of the shot boundaries for all videos of\n",
    "the TestSet.<br>\n",
    "You should use this information to evaluate your shot cut detection algorithm\n",
    "of task 1 of this assignment.<br>\n",
    "For each video you get a list with the starting frame number of each shot. More\n",
    "information and an example is provided within the _README.txt file in the assignment.<br>\n",
    "<u>The ground truth .txt files can be found in the \"gt_shots\" folder.</u></p>\n",
    "\n",
    "<br><p><b>CAUTION:</b> </p><p>If the\n",
    "frames are extracted by the VideoReader the number of frames differs from the\n",
    "one extracted by ffmpeg. Thus, your shot cuts may differ by a few frames from the\n",
    "ground truth. Please, adjust the GT in this case by adding/subtracting a fixed amount from\n",
    "all GT shot cuts.</p><p></p><p>\n",
    "</p><h5>Development environment</h5><p>All\n",
    "tasks have to be solved in Python, in this assignment we do not make\n",
    "use of any video-specific characteristics such as motion but we focus solely on\n",
    "simple visual features such as color or edge information. Following, all\n",
    "required analysis is performed on the lowest structural unit of a video - its\n",
    "frames. <br></p><p>In general, you can read and process video frames in Python using\n",
    "<a href=\"https://opencv-python-tutroals.readthedocs.io/en/latest/py_tutorials/py_gui/py_video_display/py_video_display.html\">OpenCV</a> \n"
   ]
  },
  {
   "cell_type": "code",
   "execution_count": null,
   "metadata": {},
   "outputs": [],
   "source": []
  }
 ],
 "metadata": {
  "kernelspec": {
   "display_name": "Python 3",
   "language": "python",
   "name": "python3"
  },
  "language_info": {
   "codemirror_mode": {
    "name": "ipython",
    "version": 3
   },
   "file_extension": ".py",
   "mimetype": "text/x-python",
   "name": "python",
   "nbconvert_exporter": "python",
   "pygments_lexer": "ipython3",
   "version": "3.7.4"
  }
 },
 "nbformat": 4,
 "nbformat_minor": 2
}
