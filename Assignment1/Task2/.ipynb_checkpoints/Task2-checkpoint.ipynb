{
 "cells": [
  {
   "cell_type": "markdown",
   "metadata": {},
   "source": [
    "<h2>Task 2: Cosine Similarity and Vector Space Model (20 Points)</h2>\n",
    "<p>Write a Python function that calculates the similarities that exist between the documents contained in a document collection on the basis of the&nbsp;<strong>vector space model</strong>.</p>\n",
    "<p>The function which is to be implemented in this task should calculate the&nbsp;<strong>cosine similarities</strong>&nbsp;on the basis of the term frequencies pertaining to the documents of a given document collection.</p>\n",
    "<p>The cosine similarity is an indicator of how similar two documents&nbsp;<em>d1</em>&nbsp;and&nbsp;<em>d2</em>&nbsp;are with respect to their constituting terms.</p>\n",
    "<p>For this task, you can make use of the results produced by the&nbsp;calculate_tfidf()&nbsp;function implemented in Task 1.</p>\n",
    "<p></p>\n",
    "<h3>Tasks:</h3>\n",
    "<ul>\n",
    "<li>Write a function calculate_cosine_similarity()&nbsp;that takes a set of <b>tf value vectors</b> where each vector pertains to a specific document&nbsp;<em>d</em>&nbsp;and each vector element corresponds to the <b>term frequency tf(t,d)</b> of a term&nbsp;<em>t</em>&nbsp;in document&nbsp;<em>d</em>. You can reuse the Dataframe that you computed for Task 1 here.</li>\n",
    "<li>The function takes a Pandas data frame, related to <b>tf value vectors&nbsp;</b>as an argument. The corresponding invocation of the&nbsp;calculate_cosine_similarity() function should exhibit the following signature:\n",
    "</li>"
   ]
  },
  {
   "cell_type": "code",
   "execution_count": 10,
   "metadata": {},
   "outputs": [
    {
     "name": "stdout",
     "output_type": "stream",
     "text": [
      "Similarity between Doc 1 and 2:\n",
      "0.5729\n",
      "Similarity between Doc 1 and 3:\n",
      "0.7807\n",
      "Similarity between Doc 1 and 4:\n",
      "0.8281\n",
      "Similarity between Doc 1 and 5:\n",
      "0.1557\n",
      "Similarity between Doc 2 and 3:\n",
      "0.7338\n",
      "Similarity between Doc 2 and 4:\n",
      "0.8895\n",
      "Similarity between Doc 2 and 5:\n",
      "0.5017\n",
      "Similarity between Doc 3 and 4:\n",
      "0.8081\n",
      "Similarity between Doc 3 and 5:\n",
      "0.3419\n",
      "Similarity between Doc 4 and 5:\n",
      "0.4029\n"
     ]
    }
   ],
   "source": [
    "%run Implementation.ipynb\n",
    "\n",
    "table_tfidf = calculate_tfidf('../collection1.txt')\n",
    "calculate_cosine_similarity(table_tfidf)"
   ]
  },
  {
   "cell_type": "markdown",
   "metadata": {},
   "source": [
    "<li>The above function should output the cosine similarities for all document pairs in the provided collection.</li>\n",
    "<li>Become familiar with the&nbsp;<strong>vector space model</strong>&nbsp;and use it as a basis for your implementation</li><li>Store the function in a notebook which you can import for the above function call.</li>\n",
    "</ul>\n",
    "<h3>Remarks:</h3><ul>\n",
    "<li>Information about the Euclidean length as well as vector length normalization are given in Section 6.3 \"The vector space model for scoring\" of the accompanying IR book.&nbsp;<br></li>\n",
    "</ul>\n",
    "<p>&nbsp;</p>"
   ]
  },
  {
   "cell_type": "code",
   "execution_count": null,
   "metadata": {},
   "outputs": [],
   "source": []
  }
 ],
 "metadata": {
  "kernelspec": {
   "display_name": "Python 3",
   "language": "python",
   "name": "python3"
  },
  "language_info": {
   "codemirror_mode": {
    "name": "ipython",
    "version": 3
   },
   "file_extension": ".py",
   "mimetype": "text/x-python",
   "name": "python",
   "nbconvert_exporter": "python",
   "pygments_lexer": "ipython3",
   "version": "3.7.4"
  }
 },
 "nbformat": 4,
 "nbformat_minor": 2
}
