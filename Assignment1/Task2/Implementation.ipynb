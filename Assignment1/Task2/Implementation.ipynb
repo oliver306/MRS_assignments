{
 "cells": [
  {
   "cell_type": "code",
   "execution_count": 19,
   "metadata": {},
   "outputs": [],
   "source": [
    "#import task 1 implementation for reuse\n",
    "%run ../Task1/Implementation.ipynb\n",
    "\n",
    "import numpy as np"
   ]
  },
  {
   "cell_type": "code",
   "execution_count": 17,
   "metadata": {},
   "outputs": [],
   "source": [
    "# implementation of cosine similarity (see lecture 5.4.3)\n",
    "def cosine_sim(vec1, vec2):\n",
    "\n",
    "    vec1 = np.array(vec1, dtype=float)\n",
    "    vec2 = np.array(vec2, dtype=float)\n",
    "\n",
    "    #dot product\n",
    "    numerator = np.dot(vec1, vec2)\n",
    "\n",
    "    #l2 norm\n",
    "    denominator = np.linalg.norm(vec1) * np.linalg.norm(vec2)\n",
    "    \n",
    "    #check for potential division by zero\n",
    "    return round(numerator / max(denominator, 1e-5), 4)"
   ]
  },
  {
   "cell_type": "code",
   "execution_count": 21,
   "metadata": {},
   "outputs": [],
   "source": [
    "def calculate_cosine_similarity(dataframe):\n",
    "    #create document related vectors out of term related one\n",
    "\n",
    "    #tf-idf version\n",
    "    #doc_vecs = list(zip(*dataframe[\"individual tf-idf\"].to_list()))\n",
    "\n",
    "    #raw frequency version\n",
    "    doc_vecs = list(zip(*dataframe[\"individual tf\"].to_list()))\n",
    "\n",
    "    idx_a = 0\n",
    "    while idx_a < len(doc_vecs):\n",
    "        idx_b = idx_a\n",
    "        while idx_b < len(doc_vecs):\n",
    "            if idx_a != idx_b:\n",
    "                print(\"Similarity between Doc \" + str(idx_a+1) + \" and \" + str(idx_b+1) + \":\")\n",
    "                print(cosine_sim(doc_vecs[idx_a], doc_vecs[idx_b]))\n",
    "            idx_b += 1\n",
    "        idx_a += 1"
   ]
  },
  {
   "cell_type": "code",
   "execution_count": 1,
   "metadata": {},
   "outputs": [],
   "source": [
    "#inv_idx_table = calculate_tfidf(\"../collection1.txt\")\n",
    "\n",
    "#calculate_cosine_similarity(inv_idx_table)\n",
    "#inv_idx_table"
   ]
  },
  {
   "cell_type": "code",
   "execution_count": null,
   "metadata": {},
   "outputs": [],
   "source": []
  }
 ],
 "metadata": {
  "kernelspec": {
   "display_name": "Python 3",
   "language": "python",
   "name": "python3"
  },
  "language_info": {
   "codemirror_mode": {
    "name": "ipython",
    "version": 3
   },
   "file_extension": ".py",
   "mimetype": "text/x-python",
   "name": "python",
   "nbconvert_exporter": "python",
   "pygments_lexer": "ipython3",
   "version": "3.7.4"
  }
 },
 "nbformat": 4,
 "nbformat_minor": 2
}
