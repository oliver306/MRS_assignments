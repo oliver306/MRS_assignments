{
 "cells": [
  {
   "cell_type": "code",
   "execution_count": 2,
   "metadata": {},
   "outputs": [],
   "source": [
    "%run ../Task1/Implementation.ipynb\n",
    "%run ../Task2/Implementation.ipynb\n",
    "\n",
    "import numpy as np"
   ]
  },
  {
   "cell_type": "code",
   "execution_count": 3,
   "metadata": {},
   "outputs": [],
   "source": [
    "#creates query vector with respect to a collection table\n",
    "def compare_query_to_table(table, query):\n",
    "\n",
    "    #get terms from table\n",
    "    rows = table.values.tolist()\n",
    "    \n",
    "    term_names = [el[0] for el in rows]\n",
    "\n",
    "    #create tf vector for query terms       \n",
    "    query_vec = [query.count(term) for term in term_names]\n",
    "\n",
    "    return query_vec"
   ]
  },
  {
   "cell_type": "code",
   "execution_count": 4,
   "metadata": {},
   "outputs": [],
   "source": [
    "#score docs of a dataframe against a query (see lecture 5.1.3)\n",
    "def perform_query(dataframe, query):\n",
    "\n",
    "    #get tf vectors from table\n",
    "    tf_vecs = list(zip(*dataframe[\"individual tf\"].to_list()))\n",
    "\n",
    "    #create query vector\n",
    "    query_vec = compare_query_to_table(dataframe, query)\n",
    "\n",
    "    \n",
    "    #calculate similaritiy over all docs \n",
    "    idx = 1\n",
    "    sim_map = {}\n",
    "    for doc in tf_vecs:\n",
    "        sim = cosine_sim(query_vec, doc)\n",
    "        sim_map[idx] = sim\n",
    "        idx+=1\n",
    "\n",
    "    #sort results by similarity\n",
    "    ordered_list = sorted(sim_map.items(), key=lambda x: x[1], reverse=True)\n",
    "\n",
    "    return ordered_list"
   ]
  }
 ],
 "metadata": {
  "kernelspec": {
   "display_name": "Python 3",
   "language": "python",
   "name": "python3"
  },
  "language_info": {
   "codemirror_mode": {
    "name": "ipython",
    "version": 3
   },
   "file_extension": ".py",
   "mimetype": "text/x-python",
   "name": "python",
   "nbconvert_exporter": "python",
   "pygments_lexer": "ipython3",
   "version": "3.7.4"
  }
 },
 "nbformat": 4,
 "nbformat_minor": 2
}
