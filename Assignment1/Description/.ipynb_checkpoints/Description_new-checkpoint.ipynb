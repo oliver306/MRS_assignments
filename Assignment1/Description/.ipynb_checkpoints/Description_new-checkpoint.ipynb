{
 "cells": [
  {
   "cell_type": "markdown",
   "metadata": {},
   "source": [
    "<h2>Assignment Description</h2><h1>Assignment 1: Text-based Information Retrieval and Link Analysis</h1>\n",
    "<h2>General Information</h2>\n",
    "<p>Please follow the given recommendations as closely as possible in order to minimize the risk of losing points due to not be compliant with the guidelines:</p>\n",
    "<ul>\n",
    "<li>Points will be deducted in case your source code is not&nbsp;<strong>properly documented</strong></li>\n",
    "<li>All tasks have to be solved in Python within a Jupyter Notebook.</li>\n",
    "<li>It is absolutely mandatory that you stick to the <strong>method signatures</strong> and that your functions output the results as indicated in the task descriptions</li>\n",
    "<li>You must be prepared for the discussion so that you can answer&nbsp;<strong>in-depth questions</strong>&nbsp;about your code and the implemented steps as well as about the underlying retrieval-related theories and concepts</li>\n",
    "<li>We strongly advise you&nbsp;<strong>not</strong>&nbsp;to use&nbsp;<strong>static paths</strong>&nbsp;in your implementations!</li>\n",
    "<li>Store your&nbsp;<strong>complete source code</strong>&nbsp;together with all files in&nbsp;<strong>one single zip-file</strong>&nbsp;the naming scheme of which could be found on the submission page and upload it&nbsp;<strong>before the deadline&nbsp;</strong>to the Moodle system</li>\n",
    "<li>In some tasks, you have to answer additional questions or provide a brief documentation of your progress in implementing specific algorithms or functions. Those questions should be addressed and documented within the Jupyter Notebook as well (use Markup Text for this). However, please note that the protocol should not exceed a limit of&nbsp;<strong>two pages</strong>&nbsp;and must be submitted as a&nbsp;<strong>PDF document</strong>.</li>\n",
    "<li>Scores:</li>\n",
    "<ul>\n",
    "<li>Task 1: 25 Points</li>\n",
    "<li>Task 2: 20 Points</li>\n",
    "<li>Task 3: 30 Points</li>\n",
    "<li>Task 4: 25 Points</li>\n",
    "</ul>\n",
    "</ul>"
   ]
  },
  {
   "cell_type": "code",
   "execution_count": null,
   "metadata": {},
   "outputs": [],
   "source": []
  }
 ],
 "metadata": {
  "kernelspec": {
   "display_name": "Python 3",
   "language": "python",
   "name": "python3"
  },
  "language_info": {
   "codemirror_mode": {
    "name": "ipython",
    "version": 3
   },
   "file_extension": ".py",
   "mimetype": "text/x-python",
   "name": "python",
   "nbconvert_exporter": "python",
   "pygments_lexer": "ipython3",
   "version": "3.7.4"
  }
 },
 "nbformat": 4,
 "nbformat_minor": 2
}
