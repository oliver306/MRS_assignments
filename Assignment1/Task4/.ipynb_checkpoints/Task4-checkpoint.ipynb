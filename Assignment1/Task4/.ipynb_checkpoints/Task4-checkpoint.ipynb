{
 "cells": [
  {
   "cell_type": "markdown",
   "metadata": {},
   "source": [
    "<h2>Task 4: Link Analysis and PageRank Calculation (25 Points)</h2>\n",
    "<p>Write a Python function that implements the&nbsp;<strong>PageRank algorithm</strong>&nbsp;using the&nbsp;<strong>power iteration method</strong>&nbsp;as outlined in Chapter 21 of the Information Retrieval book.</p>\n",
    "<p>The function&nbsp;page_rank()&nbsp;should calculate the PageRank of an adjacency matrix using a given teleport factor alpha, an initial transition probability distribution vector, and a given number of iterations.</p>\n",
    "<h3>Tasks:</h3>\n",
    "<ul>\n",
    "<li>Using the adjacency matrix:&nbsp;</li>"
   ]
  },
  {
   "cell_type": "code",
   "execution_count": 1,
   "metadata": {},
   "outputs": [],
   "source": [
    "adj_matrix = [[0, 1, 0], [1, 0, 1], [0, 1, 0]]"
   ]
  },
  {
   "cell_type": "markdown",
   "metadata": {},
   "source": [
    "<li>Transform the adjacency matrix into a transition probability matrix using the four steps as discussed in Chapter 21.2 of the Information Retrieval book.<br></li>\n",
    "<li>Calculate the final&nbsp;<strong>steady-state distribution probability vector</strong>&nbsp;in a number of iterations on the basis of the given parameters.</li>\n",
    "<li>The&nbsp;page_rank()&nbsp;function should accept the following parameters:</li>\n",
    "<ul>\n",
    "<li>an&nbsp;<strong>N x N adjacency matrix</strong>&nbsp;representing links between pages</li>\n",
    "<li>a&nbsp;<strong>teleport factor</strong></li>\n",
    "<li>an&nbsp;<strong>initial transition probability distribution vector</strong>&nbsp;(in case no explicitly specified probability distribution vector is passed, use a randomly generated probability distribution vector per default where an arbitrarily chosen vector element is set to 1 and thus represents the starting node at time t0)</li>\n",
    "<li>a number of&nbsp;<strong>random walk iterations</strong>&nbsp;(per default, the number of iterations can be set to 20)</li>\n",
    "</ul>\n",
    "<li>You can use the following method signature:</li>"
   ]
  },
  {
   "cell_type": "code",
   "execution_count": 5,
   "metadata": {},
   "outputs": [
    {
     "name": "stdout",
     "output_type": "stream",
     "text": [
      "\n",
      "divided each element by row sum, 0 rows set to 1/row_length\n",
      "[[0.0, 1.0, 0.0], [0.5, 0.0, 0.5], [0.0, 1.0, 0.0]]\n",
      "\n",
      "multiplied matrix by 1-teleport_factor (except for original zero rows)\n",
      "[[0.0, 0.9, 0.0], [0.45, 0.0, 0.45], [0.0, 0.9, 0.0]]\n",
      "\n",
      "added teleport_factor/row_length to every entry (except for original zero rows)\n",
      "[[0.03333333333333333, 0.9333333333333333, 0.03333333333333333], [0.48333333333333334, 0.03333333333333333, 0.48333333333333334], [0.03333333333333333, 0.9333333333333333, 0.03333333333333333]]\n",
      "\n",
      "\n",
      "starting vec:  [0. 0. 1.]\n",
      "1 iteration: [0.03333333 0.93333333 0.03333333]\n",
      "2 iteration: [0.45333333 0.09333333 0.45333333]\n",
      "3 iteration: [0.07533333 0.84933333 0.07533333]\n",
      "4 iteration: [0.41553333 0.16893333 0.41553333]\n",
      "5 iteration: [0.10935333 0.78129333 0.10935333]\n",
      "6 iteration: [0.38491533 0.23016933 0.38491533]\n",
      "7 iteration: [0.13690953 0.72618093 0.13690953]\n",
      "8 iteration: [0.36011475 0.27977049 0.36011475]\n",
      "9 iteration: [0.15923006 0.68153989 0.15923006]\n",
      "10 iteration: [0.34002628 0.31994743 0.34002628]\n",
      "11 iteration: [0.17730968 0.64538064 0.17730968]\n",
      "12 iteration: [0.32375462 0.35249075 0.32375462]\n",
      "13 iteration: [0.19195417 0.61609165 0.19195417]\n",
      "14 iteration: [0.31057458 0.37885084 0.31057458]\n",
      "15 iteration: [0.20381621 0.59236757 0.20381621]\n",
      "16 iteration: [0.29989874 0.40020252 0.29989874]\n",
      "17 iteration: [0.21342447 0.57315107 0.21342447]\n",
      "18 iteration: [0.29125131 0.41749737 0.29125131]\n",
      "19 iteration: [0.22120715 0.5575857  0.22120715]\n",
      "20 iteration: [0.2842469 0.4315062 0.2842469]\n"
     ]
    }
   ],
   "source": [
    "%run Implementation.ipynb\n",
    "\n",
    "#result_page_rank = page_rank(adj_matrix, teleport_factor, probability_vector, iterations)\n",
    "result_page_rank = page_rank(adj_matrix)\n"
   ]
  },
  {
   "cell_type": "markdown",
   "metadata": {},
   "source": [
    "<ul><li>The&nbsp;page_rank() function should output</li>\n",
    "<ol>\n",
    "<li>each intermediate transformation step in transforming the adjacency matrix into the final transition probability matrix</li>\n",
    "<li>the steady-state probability distribution vector reached after n&nbsp;iterations together with each intermediate calculation iteration</li>\n",
    "</ol> <p></p>\n",
    "<li>Test your function with a teleport factor (alpha) of&nbsp;0.5, a transition probability vector [1, 0, 0], and&nbsp;20&nbsp;iterations.</li>\n",
    "<li>Compare the steady-state probability distribution vector with the rendered adjacency matrix to understand the concept of the PageRank algorithm</li>\n",
    "<li>Store the&nbsp;page_rank()&nbsp;function in a file named page_rank.py</li></ul><p></p>\n",
    "\n",
    "<p></p>\n",
    "<h3>Further Questions:</h3>\n",
    "<ul>\n",
    "<li>Outline how the result of a PageRank calculation can be integrated into the calculation process of a retrieval (similarity) score</li>\n",
    "<li>Think about the nature of the PageRank and ascertain whether it is a query-dependent or query-independent measure</li></ul>"
   ]
  },
  {
   "cell_type": "code",
   "execution_count": null,
   "metadata": {},
   "outputs": [],
   "source": []
  }
 ],
 "metadata": {
  "kernelspec": {
   "display_name": "Python 3",
   "language": "python",
   "name": "python3"
  },
  "language_info": {
   "codemirror_mode": {
    "name": "ipython",
    "version": 3
   },
   "file_extension": ".py",
   "mimetype": "text/x-python",
   "name": "python",
   "nbconvert_exporter": "python",
   "pygments_lexer": "ipython3",
   "version": "3.7.4"
  }
 },
 "nbformat": 4,
 "nbformat_minor": 2
}
