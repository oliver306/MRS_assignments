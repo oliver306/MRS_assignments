{
 "cells": [
  {
   "cell_type": "markdown",
   "metadata": {},
   "source": [
    "# <h2>Task 1: TFIDF Calculation (25 Points)</h2>\n",
    "<p>Calculate the term frequency (tf), document frequency (df), inverse document frequency (idf), and the tf-idf frequency for the terms of all the documents contained in a given document collection file (collection1.txt) provided for this task.</p>\n",
    "<p>Use Python to implement the required function.</p>\n",
    "<h3>Tasks:</h3><ul>\n",
    "<li>Write a Python function (calculate_tfidf) that parses a given document collection containing an arbitrary amount of terms and documents and calculates the corresponding frequencies.</li>\n",
    "<li>The function should exhibit the following signature, where&nbsp;collection holds the path to the document collection to be analyzed and processed:\n",
    "</li>"
   ]
  },
  {
   "cell_type": "code",
   "execution_count": null,
   "metadata": {},
   "outputs": [],
   "source": [
    "table_tfidf = calculate_tfidf('collection')\n"
   ]
  },
  {
   "cell_type": "markdown",
   "metadata": {},
   "source": [
    "<li>Test your implementation using the provided document collection</li></ul><ul>"
   ]
  },
  {
   "cell_type": "code",
   "execution_count": 1,
   "metadata": {},
   "outputs": [
    {
     "ename": "NameError",
     "evalue": "name 'calculate_tfidf' is not defined",
     "output_type": "error",
     "traceback": [
      "\u001b[1;31m---------------------------------------------------------------------------\u001b[0m",
      "\u001b[1;31mNameError\u001b[0m                                 Traceback (most recent call last)",
      "\u001b[1;32m<ipython-input-1-6f7fd1be0128>\u001b[0m in \u001b[0;36m<module>\u001b[1;34m\u001b[0m\n\u001b[1;32m----> 1\u001b[1;33m \u001b[0mtable_tfidf\u001b[0m \u001b[1;33m=\u001b[0m \u001b[0mcalculate_tfidf\u001b[0m\u001b[1;33m(\u001b[0m\u001b[1;34m'collection1.txt'\u001b[0m\u001b[1;33m)\u001b[0m\u001b[1;33m\u001b[0m\u001b[1;33m\u001b[0m\u001b[0m\n\u001b[0m",
      "\u001b[1;31mNameError\u001b[0m: name 'calculate_tfidf' is not defined"
     ]
    }
   ],
   "source": [
    "table_tfidf = calculate_tfidf('collection1.txt')\n"
   ]
  },
  {
   "cell_type": "markdown",
   "metadata": {},
   "source": [
    "<li>Use a Pandas dataframe for the data structure.</li>\n",
    "<li>Store the following values in separate columns:</li>\n",
    "<ul>\n",
    "<li>the sorted inverted term indices (vocabulary terms/tokens)</li>\n",
    "<li>the overall term frequency</li>\n",
    "<li>the individual term frequencies pertaining to each document</li>\n",
    "<li>the document and inverse document frequency</li>\n",
    "<li>the tf-idf values for each term and document</li>\n",
    "</ul>\n",
    "<li>The&nbsp;calculate_tfidf() function should return all results in the form of a Pandas dataframe&nbsp;</li><li>Store the function in a separate file called \"calculate_tfidf.py\"</li>\n",
    "</ul>\n",
    "<p></p>\n",
    "<h3>Remarks:</h3>\n",
    "<ul>\n",
    "<li>Lemmatization and tokenization methods do not need to be considered</li>\n",
    "<li>Calculate the inverse document frequency using the logarithm to the base 10</li>\n",
    "<li>Ideally, the&nbsp;calculate_tfidf&nbsp;function should work with document collections containing an arbitrary&nbsp;amount of documents and terms</li>\n",
    "</ul>\n",
    "<h3>Further Questions:</h3>\n",
    "<p>Critically think about the following question and submit your answers in the PDF protocol</p>\n",
    "<ol>\n",
    "<li>What are the shortcomings of the raw term frequency calculation and how do they affect a retrieval system?</li>\n",
    "<li>Evaluate the following statements:<br>\n",
    "<p>Using a tf-idf weighting scheme, the weight of a term t in a document d is....&nbsp;<br><br>...lowest when t occurs many times in many documents&nbsp;<br>...highest when t occurs very often in all documents<br>...highest when t occurs many times in few documents<br>...growing when the occurrence&nbsp;of t increases proportionally with the amount of documents t occurs in</p>\n",
    "</li>\n",
    "<li>Why is a document-level statistic for term weighting to be preferred over a collection-wide statistic?</li>\n",
    "</ol>\n",
    "<p>&nbsp;</p>"
   ]
  },
  {
   "cell_type": "code",
   "execution_count": null,
   "metadata": {},
   "outputs": [],
   "source": []
  }
 ],
 "metadata": {
  "kernelspec": {
   "display_name": "Python 3",
   "language": "python",
   "name": "python3"
  },
  "language_info": {
   "codemirror_mode": {
    "name": "ipython",
    "version": 3
   },
   "file_extension": ".py",
   "mimetype": "text/x-python",
   "name": "python",
   "nbconvert_exporter": "python",
   "pygments_lexer": "ipython3",
   "version": "3.7.4"
  }
 },
 "nbformat": 4,
 "nbformat_minor": 2
}
